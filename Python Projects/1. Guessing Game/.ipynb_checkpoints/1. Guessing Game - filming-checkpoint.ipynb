{
 "cells": [
  {
   "cell_type": "markdown",
   "metadata": {},
   "source": [
    "## Create a Guessing Game"
   ]
  },
  {
   "cell_type": "code",
   "execution_count": 20,
   "metadata": {},
   "outputs": [],
   "source": [
    "import random"
   ]
  },
  {
   "cell_type": "code",
   "execution_count": 21,
   "metadata": {},
   "outputs": [],
   "source": [
    "true_number = random.randint(1, 49)"
   ]
  },
  {
   "cell_type": "code",
   "execution_count": 22,
   "metadata": {},
   "outputs": [
    {
     "data": {
      "text/plain": [
       "32"
      ]
     },
     "execution_count": 22,
     "metadata": {},
     "output_type": "execute_result"
    }
   ],
   "source": [
    "true_number"
   ]
  },
  {
   "cell_type": "code",
   "execution_count": 23,
   "metadata": {},
   "outputs": [
    {
     "name": "stdout",
     "output_type": "stream",
     "text": [
      "Enter your guess between 1 and 49: 3\n"
     ]
    }
   ],
   "source": [
    "guess_number = int(input(\"Enter your guess between 1 and 49: \"))"
   ]
  },
  {
   "cell_type": "code",
   "execution_count": 24,
   "metadata": {},
   "outputs": [
    {
     "data": {
      "text/plain": [
       "3"
      ]
     },
     "execution_count": 24,
     "metadata": {},
     "output_type": "execute_result"
    }
   ],
   "source": [
    "guess_number"
   ]
  },
  {
   "cell_type": "code",
   "execution_count": 25,
   "metadata": {},
   "outputs": [
    {
     "name": "stdout",
     "output_type": "stream",
     "text": [
      "YOUR GUESS IS LOW, TRY AGAIN\n",
      "Enter your guess between 1 and 49: 4\n",
      "YOUR GUESS IS LOW, TRY AGAIN\n",
      "Enter your guess between 1 and 49: 5\n",
      "YOUR GUESS IS LOW, TRY AGAIN\n",
      "Enter your guess between 1 and 49: 31\n",
      "YOUR GUESS IS LOW, TRY AGAIN\n",
      "Enter your guess between 1 and 49: 45\n",
      "YOUR GUESS IS HIGH, TRY AGAIN\n",
      "Enter your guess between 1 and 49: 35\n",
      "YOUR GUESS IS HIGH, TRY AGAIN\n",
      "Enter your guess between 1 and 49: 32\n",
      "YOU ARE RIGHT! GREAT JOB!\n"
     ]
    }
   ],
   "source": [
    "while True:\n",
    "    if guess_number == true_number:\n",
    "        print('YOU ARE RIGHT! GREAT JOB!')\n",
    "        break\n",
    "    elif guess_number < true_number:\n",
    "        print('YOUR GUESS IS LOW, TRY AGAIN')\n",
    "        guess_number = int(input(\"Enter your guess between 1 and 49: \"))\n",
    "    \n",
    "    elif guess_number > true_number:\n",
    "        print('YOUR GUESS IS HIGH, TRY AGAIN')\n",
    "        guess_number = int(input(\"Enter your guess between 1 and 49: \"))\n",
    "    "
   ]
  }
 ],
 "metadata": {
  "kernelspec": {
   "display_name": "Python 3",
   "language": "python",
   "name": "python3"
  },
  "language_info": {
   "codemirror_mode": {
    "name": "ipython",
    "version": 3
   },
   "file_extension": ".py",
   "mimetype": "text/x-python",
   "name": "python",
   "nbconvert_exporter": "python",
   "pygments_lexer": "ipython3",
   "version": "3.6.5"
  }
 },
 "nbformat": 4,
 "nbformat_minor": 2
}
